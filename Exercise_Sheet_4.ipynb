{
 "cells": [
  {
   "cell_type": "markdown",
   "metadata": {},
   "source": [
    "<h1>Natural Language Processing</h1>\n",
    "<h2>Exercise Sheet 4</h2>\n",
    "<h3>Iftekher Aziz - 12338137</h3>"
   ]
  },
  {
   "cell_type": "code",
   "execution_count": 1,
   "metadata": {},
   "outputs": [
    {
     "name": "stderr",
     "output_type": "stream",
     "text": [
      "<frozen importlib._bootstrap>:228: RuntimeWarning: scipy._lib.messagestream.MessageStream size changed, may indicate binary incompatibility. Expected 56 from C header, got 64 from PyObject\n",
      "[nltk_data] Downloading package wordnet to\n",
      "[nltk_data]     C:\\Users\\Aziz\\AppData\\Roaming\\nltk_data...\n",
      "[nltk_data]   Package wordnet is already up-to-date!\n"
     ]
    }
   ],
   "source": [
    "#imports for all exercises\n",
    "import pprint\n",
    "\n",
    "import string\n",
    "from nltk.corpus import gutenberg\n",
    "\n",
    "import nltk\n",
    "nltk.download('wordnet')\n",
    "from nltk.corpus import wordnet as wn\n",
    "\n",
    "import functools\n",
    "import timeit"
   ]
  },
  {
   "cell_type": "markdown",
   "metadata": {},
   "source": [
    "### Exercise 1\n",
    "\n",
    "Write a program to initialize a two-dimensional array of sets called `word_vowels` and process a list of words, adding each word to `word_vowels[l][v]` where $l$ is the length of the word and $v$ is the number of vowels it contains. Test your program with a 10x10-array and the list `['Alice', 'hat', 'heute', 'ihren', 'freien', 'Tag']`."
   ]
  },
  {
   "cell_type": "code",
   "execution_count": 2,
   "metadata": {},
   "outputs": [
    {
     "name": "stdout",
     "output_type": "stream",
     "text": [
      "Length 3, Vowels 1: {'hat', 'Tag'}\n",
      "Length 5, Vowels 2: {'ihren'}\n",
      "Length 5, Vowels 3: {'Alice', 'heute'}\n",
      "Length 6, Vowels 3: {'freien'}\n"
     ]
    }
   ],
   "source": [
    "# Initialize a 10x10 array of sets\n",
    "word_vowels = [[set() for _ in range(10)] for _ in range(10)]\n",
    "\n",
    "# Function to count vowels in a word\n",
    "def count_vowels(word):\n",
    "    vowels = 'aeiouAEIOU'\n",
    "    return sum(1 for char in word if char in vowels)\n",
    "\n",
    "# List of words to process\n",
    "words = ['Alice', 'hat', 'heute', 'ihren', 'freien', 'Tag']\n",
    "\n",
    "# Process each word\n",
    "for word in words:\n",
    "    l = len(word)  # Length of the word\n",
    "    v = count_vowels(word)  # Number of vowels in the word\n",
    "    \n",
    "    # Add word to the appropriate set in word_vowels\n",
    "    # Check if l and v are within the bounds of the array to avoid IndexError\n",
    "    if l < 10 and v < 10:\n",
    "        word_vowels[l][v].add(word)\n",
    "\n",
    "# Print the array to see the result\n",
    "for i, row in enumerate(word_vowels):\n",
    "    for j, cell in enumerate(row):\n",
    "        if cell:  # If the set is not empty\n",
    "            print(f\"Length {i}, Vowels {j}: {cell}\")"
   ]
  },
  {
   "cell_type": "markdown",
   "metadata": {},
   "source": [
    "### Exercise 2\n",
    "\n",
    "Write a program that prints all words that only appear in the last 10\\% of a text. Test your code with the file `'shakespeare-macbeth.txt'` from the Gutenberg Corpus.\n"
   ]
  },
  {
   "cell_type": "code",
   "execution_count": 3,
   "metadata": {},
   "outputs": [
    {
     "name": "stdout",
     "output_type": "stream",
     "text": [
      "abhorred\n",
      "absent\n",
      "aduance\n",
      "aduantage\n",
      "ague\n",
      "alarums\n",
      "alowd\n",
      "appeare\n",
      "approaches\n",
      "arbitrate\n",
      "army\n",
      "arriud\n",
      "auouches\n",
      "auoyded\n",
      "aweary\n",
      "backward\n",
      "baited\n",
      "bane\n",
      "battell\n",
      "beard\n",
      "bearelike\n",
      "beart\n",
      "beaten\n",
      "beest\n",
      "befort\n",
      "beleeud\n",
      "birnane\n",
      "bloodier\n",
      "bough\n",
      "boughes\n",
      "brandishd\n",
      "brauely\n",
      "breefe\n",
      "bruited\n",
      "butcher\n",
      "calling\n",
      "callst\n",
      "candle\n",
      "censures\n",
      "chambers\n",
      "cheapely\n",
      "childrens\n",
      "clamorous\n",
      "clatter\n",
      "compast\n",
      "comst\n",
      "confident\n",
      "constrained\n",
      "continued\n",
      "coold\n",
      "cosins\n",
      "cowd\n",
      "creepes\n",
      "crests\n",
      "darefull\n",
      "debt\n",
      "decision\n",
      "direnesse\n",
      "discouery\n",
      "dusty\n",
      "earles\n",
      "either\n",
      "endure\n",
      "equiuocation\n",
      "erre\n",
      "euent\n",
      "exild\n",
      "expence\n",
      "fairer\n",
      "familiar\n",
      "famine\n",
      "fearefull\n",
      "fiendlike\n",
      "fiends\n",
      "fighting\n",
      "finis\n",
      "flying\n",
      "forcd\n",
      "forgot\n",
      "gaze\n",
      "gently\n",
      "ghosts\n",
      "ginne\n",
      "groue\n",
      "haires\n",
      "harbingers\n",
      "hardly\n",
      "harnesse\n",
      "hatefull\n",
      "heereafter\n",
      "hellhound\n",
      "henceforth\n",
      "hew\n",
      "hoast\n",
      "horrors\n",
      "hoter\n",
      "hurts\n",
      "hyrd\n",
      "ideot\n",
      "indure\n",
      "industrious\n",
      "int\n",
      "intrenchant\n",
      "iugling\n",
      "knolld\n",
      "leade\n",
      "learne\n",
      "leauy\n",
      "loosest\n",
      "lyar\n",
      "lyest\n",
      "malcolmes\n",
      "measurd\n",
      "minds\n",
      "missing\n",
      "monsters\n",
      "mothers\n",
      "mouing\n",
      "names\n",
      "newer\n",
      "newly\n",
      "next\n",
      "nightshrieke\n",
      "opposd\n",
      "outward\n",
      "paid\n",
      "palter\n",
      "parted\n",
      "pearle\n",
      "petty\n",
      "planted\n",
      "player\n",
      "pole\n",
      "producing\n",
      "professes\n",
      "profit\n",
      "proue\n",
      "prowesse\n",
      "rabbles\n",
      "rarer\n",
      "reckon\n",
      "recorded\n",
      "rendred\n",
      "resolution\n",
      "retreat\n",
      "ript\n",
      "roman\n",
      "rowze\n",
      "salutation\n",
      "score\n",
      "sence\n",
      "serud\n",
      "seyw\n",
      "sheath\n",
      "shield\n",
      "shouldst\n",
      "siedge\n",
      "signifying\n",
      "skreenes\n",
      "slaughterous\n",
      "snares\n",
      "soldier\n",
      "souldiership\n",
      "speak\n",
      "speculatiue\n",
      "stake\n",
      "staues\n",
      "stroake\n",
      "struts\n",
      "sun\n",
      "syw\n",
      "tarrying\n",
      "taste\n",
      "tearmes\n",
      "tels\n",
      "thereby\n",
      "thoult\n",
      "tied\n",
      "treatise\n",
      "trumpets\n",
      "try\n",
      "vnbattered\n",
      "vndeeded\n",
      "vnderwrit\n",
      "vndon\n",
      "vnshrinking\n",
      "vnsure\n",
      "voice\n",
      "voyces\n",
      "vsurpers\n",
      "vulnerable\n",
      "walls\n",
      "watchfull\n",
      "weapons\n",
      "womb\n",
      "wrath\n",
      "yesterdayes\n",
      "ysey\n"
     ]
    }
   ],
   "source": [
    "def unique_words_last_10_percent(file_id):\n",
    "    # Load the text of the file\n",
    "    text = gutenberg.raw(file_id)\n",
    "    \n",
    "    # Normalize text: remove punctuation and convert to lowercase\n",
    "    translator = str.maketrans('', '', string.punctuation)\n",
    "    normalized_text = text.translate(translator).lower()\n",
    "    \n",
    "    # Split the text into words\n",
    "    words = normalized_text.split()\n",
    "    \n",
    "    # Calculate the start index of the last 10% of the words\n",
    "    last_10_percent_start_index = int(len(words) * 0.9)\n",
    "    \n",
    "    # Words in the last 10%\n",
    "    words_last_10_percent = set(words[last_10_percent_start_index:])\n",
    "    \n",
    "    # Words in the first 90%\n",
    "    words_first_90_percent = set(words[:last_10_percent_start_index])\n",
    "    \n",
    "    # Find words that appear only in the last 10%\n",
    "    unique_words = words_last_10_percent.difference(words_first_90_percent)\n",
    "    \n",
    "    # Print unique words\n",
    "    for word in sorted(unique_words):\n",
    "        print(word)\n",
    "\n",
    "# Call the function with the file ID from the Gutenberg Corpus\n",
    "unique_words_last_10_percent('shakespeare-macbeth.txt')"
   ]
  },
  {
   "cell_type": "markdown",
   "metadata": {},
   "source": [
    "### Exercise 3\n",
    "\n",
    "Write a program that takes a sentence expressed as a single string, splits it and counts up the words. Get it to print out each word and the word's frequency, one per line, in alphabetical order. Test it with the sentence: `'das ist heute wieder einmal wirklich ein sehr schöner tag das kann ich dir wieder einmal sagen'`.\n"
   ]
  },
  {
   "cell_type": "code",
   "execution_count": 4,
   "metadata": {},
   "outputs": [
    {
     "name": "stdout",
     "output_type": "stream",
     "text": [
      "das: 2\n",
      "dir: 1\n",
      "ein: 1\n",
      "einmal: 2\n",
      "heute: 1\n",
      "ich: 1\n",
      "ist: 1\n",
      "kann: 1\n",
      "sagen: 1\n",
      "schöner: 1\n",
      "sehr: 1\n",
      "tag: 1\n",
      "wieder: 2\n",
      "wirklich: 1\n"
     ]
    }
   ],
   "source": [
    "# Define the sentence to analyze\n",
    "sentence = 'das ist heute wieder einmal wirklich ein sehr schöner tag das kann ich dir wieder einmal sagen'\n",
    "\n",
    "# Split the sentence into words\n",
    "words = sentence.split()\n",
    "\n",
    "# Count the frequency of each word\n",
    "word_counts = {}\n",
    "for word in words:\n",
    "    if word in word_counts:\n",
    "        word_counts[word] += 1\n",
    "    else:\n",
    "        word_counts[word] = 1\n",
    "\n",
    "# Sort the words alphabetically and print each word with its frequency\n",
    "for word in sorted(word_counts):\n",
    "    print(f\"{word}: {word_counts[word]}\")"
   ]
  },
  {
   "cell_type": "markdown",
   "metadata": {},
   "source": [
    "### Exercise 4\n",
    "\n",
    "Write a function `sort_dist(candidates, target)`. The `candidates` are a list of strings representing WordNet synset names, and `target` a synset name string. The function shall sort the `candidates` for proximity to the `target` synset using `shortest_path_distance()`. \n",
    "\n",
    "Test your function with `candidates=['minke_whale.n.01','orca.n.01','novel.n.01', 'tortoise.n.01']` and `target='right_whale.n.01'`."
   ]
  },
  {
   "cell_type": "code",
   "execution_count": 5,
   "metadata": {},
   "outputs": [
    {
     "name": "stdout",
     "output_type": "stream",
     "text": [
      "Candidates sorted by proximity to target: ['minke_whale.n.01', 'orca.n.01', 'tortoise.n.01', 'novel.n.01']\n"
     ]
    }
   ],
   "source": [
    "def sort_dist(candidates, target):\n",
    "    target_synset = wn.synset(target)\n",
    "    \n",
    "    # Calculate distance of each candidate to the target\n",
    "    distances = []\n",
    "    for candidate in candidates:\n",
    "        candidate_synset = wn.synset(candidate)\n",
    "        distance = candidate_synset.shortest_path_distance(target_synset)\n",
    "        distances.append((candidate, distance))\n",
    "    \n",
    "    # Sort candidates based on distance\n",
    "    sorted_candidates = sorted(distances, key=lambda x: x[1])\n",
    "    \n",
    "    # Return sorted list of candidates by proximity\n",
    "    return [candidate for candidate, distance in sorted_candidates]\n",
    "\n",
    "# Test the function\n",
    "candidates = ['minke_whale.n.01', 'orca.n.01', 'novel.n.01', 'tortoise.n.01']\n",
    "target = 'right_whale.n.01'\n",
    "sorted_candidates = sort_dist(candidates, target)\n",
    "\n",
    "print(\"Candidates sorted by proximity to target:\", sorted_candidates)"
   ]
  },
  {
   "cell_type": "markdown",
   "metadata": {},
   "source": [
    "### Exercise 5\n",
    "\n",
    "Write a recursive function `lookup(trie, key)` that looks up a `key` in a `trie`, and returns the value it finds. The function should cover the following cases:\n",
    "\n",
    "a) it should return a corresponding message if the key is not included in the trie;  \n",
    "b) it should return a message if the key is not unique, i.e. if there are several words for this prefix;  \n",
    "c) if a word is uniquely determined by the key prefix it should be returned as result. \n",
    "\n",
    "Try your function for the following trie and test cases:"
   ]
  },
  {
   "cell_type": "code",
   "execution_count": 6,
   "metadata": {},
   "outputs": [
    {
     "name": "stdout",
     "output_type": "stream",
     "text": [
      "{'c': {'h': {'a': {'i': {'r': {'value': 'flesh'}},\n",
      "                   't': {'value': 'cat'}},\n",
      "             'e': {'v': {'a': {'l': {'value': 'horse'}}}},\n",
      "             'i': {'c': {'value': 'stylish'},\n",
      "                   'e': {'n': {'value': 'dog'}}}}}}\n"
     ]
    }
   ],
   "source": [
    "# Function to insert a Key-value pair into the trie\n",
    "def insert(trie, key, value):\n",
    "    if key:\n",
    "        first, rest = key[0], key[1:]\n",
    "        if first not in trie:\n",
    "            trie[first] = {}\n",
    "        insert(trie[first], rest, value)\n",
    "    else:\n",
    "        trie['value'] = value\n",
    "# Initialize an empty trie\n",
    "trie = {}\n",
    "\n",
    "# Insert Key-value pairs into the trie\n",
    "insert(trie, 'chat', 'cat')\n",
    "insert(trie, 'chien', 'dog')\n",
    "insert(trie, 'chair', 'flesh')\n",
    "insert(trie, 'chic', 'stylish')\n",
    "insert(trie, 'cheval','horse') \n",
    "trie = dict(trie)     \n",
    "# Pretty print the trie for visualization\n",
    "pprint.pprint(trie, width=40)"
   ]
  },
  {
   "cell_type": "code",
   "execution_count": 7,
   "metadata": {},
   "outputs": [],
   "source": [
    "# Function to look up a Key in the trie\n",
    "def lookup(trie, key):\n",
    "    if not key:  # If the remaining Key is empty\n",
    "        if 'value' in trie:  # Unique value found\n",
    "            return trie['value']\n",
    "        else:  # Key is not unique\n",
    "            return \"Key is not unique\"\n",
    "    \n",
    "    first, rest = key[0], key[1:]\n",
    "    if first in trie:\n",
    "        return lookup(trie[first], rest)\n",
    "    else:\n",
    "        return \"Key not found\"\n",
    "        "
   ]
  },
  {
   "cell_type": "code",
   "execution_count": 8,
   "metadata": {},
   "outputs": [
    {
     "name": "stdout",
     "output_type": "stream",
     "text": [
      "cat\n",
      "Key is not unique\n",
      "Key not found\n",
      "horse\n",
      "Key is not unique\n",
      "Key is not unique\n"
     ]
    }
   ],
   "source": [
    "print(lookup(trie, 'chat'))\n",
    "print(lookup(trie, 'cha'))\n",
    "print(lookup(trie, 'souris'))\n",
    "print(lookup(trie, 'cheval'))\n",
    "print(lookup(trie, 'che'))\n",
    "print(lookup(trie, 'chev'))"
   ]
  },
  {
   "cell_type": "markdown",
   "metadata": {},
   "source": [
    "### Exercise 6\n",
    "\n",
    "Write a recursive function `pp_trie` that pretty prints a trie in alphabetically sorted order by replacing common prefixes with `'-'` characters.\n",
    "Test your implementation with the following example data:"
   ]
  },
  {
   "cell_type": "code",
   "execution_count": 9,
   "metadata": {},
   "outputs": [
    {
     "name": "stdout",
     "output_type": "stream",
     "text": [
      "{'c': {'h': {'a': {'i': {'r': {'value': 'flesh'}},\n",
      "                   't': {'value': 'cat'}},\n",
      "             'e': {'v': {'a': {'l': {'value': 'horse'}}}},\n",
      "             'i': {'c': {'value': 'stylish'},\n",
      "                   'e': {'n': {'value': 'dog'}}}}},\n",
      " 's': {'o': {'u': {'r': {'i': {'s': {'value': 'mouse'}}}}}}}\n"
     ]
    }
   ],
   "source": [
    "trie = {}\n",
    "insert(trie, 'chat', 'cat')\n",
    "insert(trie, 'souris', 'mouse')\n",
    "insert(trie, 'chien', 'dog')\n",
    "insert(trie, 'chair', 'flesh')\n",
    "insert(trie, 'chic', 'stylish')\n",
    "insert(trie, 'cheval','horse')\n",
    "trie = dict(trie) \n",
    "pprint.pprint(trie, width=40)"
   ]
  },
  {
   "cell_type": "code",
   "execution_count": 10,
   "metadata": {},
   "outputs": [],
   "source": [
    "def pp_trie(trie, prefix='', prev_level=-1, level=0):\n",
    "    # If the current node has a 'value', print it with its prefix, indented by its level.\n",
    "    if 'value' in trie:\n",
    "        print(f\"{'-' * level} {prefix}: {trie['value']}\")\n",
    "    \n",
    "    # Create a list of the current node's children, excluding any 'value' nodes.\n",
    "    sorted_keys = sorted(key for key in trie.keys() if key != 'value')\n",
    "    \n",
    "    # Iterate over the children, sorted alphabetically.\n",
    "    for key in sorted_keys:\n",
    "        # If we're not going deeper, start a new branch with the current key.\n",
    "        if level <= prev_level:\n",
    "            pp_trie(trie[key], key, level, level+1)\n",
    "        # If we are going deeper, append the current key to the prefix and continue.\n",
    "        else:\n",
    "            pp_trie(trie[key], prefix + key, prev_level, level+1)\n"
   ]
  },
  {
   "cell_type": "code",
   "execution_count": 11,
   "metadata": {},
   "outputs": [
    {
     "name": "stdout",
     "output_type": "stream",
     "text": [
      "\n",
      "Pretty Printed Trie:\n",
      "----- chair: flesh\n",
      "---- chat: cat\n",
      "------ cheval: horse\n",
      "---- chic: stylish\n",
      "----- chien: dog\n",
      "------ souris: mouse\n"
     ]
    }
   ],
   "source": [
    "print(\"\\nPretty Printed Trie:\")\n",
    "pp_trie(trie)"
   ]
  },
  {
   "cell_type": "markdown",
   "metadata": {},
   "source": [
    "    chair: flesh\n",
    "    ---t: cat\n",
    "    --eval: horse\n",
    "    --ic: stylish\n",
    "    ---en: dog\n",
    "    souris: mouse"
   ]
  },
  {
   "cell_type": "markdown",
   "metadata": {},
   "source": [
    "### Exercise 7\n",
    "\n",
    "The *Catalan numbers* arise in many applications of combinatorial mathematics, including the counting of parse trees. The series can be defined as follows: $C_0 = 1$, and $C_{n+1} = \\sum_{i=0}^{n}C_iC_{n-i}$ for $n\\geq{0}$.\n",
    "\n",
    "Write:\n",
    "\n",
    "a) a recursive function `cn(n)` to compute the $n$th Catalan number $C_{n}$,  \n",
    "b) a corresponding function `cn2(n)` that uses dynamic programming by storing calculated solutions in a lookup table,  \n",
    "c) a function `cn3(n)`, which is identical to `cn(n)` but uses a `memoize` decorator.\n",
    "\n",
    "Test your functions first by calculating the Catalan numbers $C_0\\dots C_{16}$ and then by using the `timeit` module:"
   ]
  },
  {
   "cell_type": "code",
   "execution_count": 12,
   "metadata": {},
   "outputs": [
    {
     "name": "stdout",
     "output_type": "stream",
     "text": [
      "C_0: 1, 1, 1\n",
      "C_1: 1, 1, 1\n",
      "C_2: 2, 2, 2\n",
      "C_3: 5, 5, 5\n",
      "C_4: 14, 14, 14\n",
      "C_5: 42, 42, 42\n",
      "C_6: 132, 132, 132\n",
      "C_7: 429, 429, 429\n",
      "C_8: 1430, 1430, 1430\n",
      "C_9: 4862, 4862, 4862\n",
      "C_10: 16796, 16796, 16796\n",
      "C_11: 58786, 58786, 58786\n",
      "C_12: 208012, 208012, 208012\n",
      "C_13: 742900, 742900, 742900\n",
      "C_14: 2674440, 2674440, 2674440\n",
      "C_15: 9694845, 9694845, 9694845\n",
      "C_16: 35357670, 35357670, 35357670\n"
     ]
    }
   ],
   "source": [
    "# a) Recursive function to compute the nth Catalan number\n",
    "def cn(n):\n",
    "    if n <= 0:\n",
    "        return 1\n",
    "    else:\n",
    "        result = 0\n",
    "        for i in range(n):\n",
    "            result += cn(i) * cn(n-1-i)\n",
    "        return result\n",
    "\n",
    "# b) Dynamic programming approach with lookup table\n",
    "def cn2(n, lookup={}):\n",
    "    if n <= 0:\n",
    "        return 1\n",
    "    if n not in lookup:\n",
    "        lookup[n] = sum(cn2(i, lookup) * cn2(n-1-i, lookup) for i in range(n))\n",
    "    return lookup[n]\n",
    "\n",
    "# c) Recursive function with memoize decorator\n",
    "@functools.lru_cache(maxsize=None)\n",
    "def cn3(n):\n",
    "    if n <= 0:\n",
    "        return 1\n",
    "    else:\n",
    "        return sum(cn3(i) * cn3(n-1-i) for i in range(n))\n",
    "\n",
    "# Test by calculating the Catalan numbers C0 to C16\n",
    "catalan_numbers = [(i, cn(i), cn2(i), cn3(i)) for i in range(17)]\n",
    "for i, c1, c2, c3 in catalan_numbers:\n",
    "    print(f\"C_{i}: {c1}, {c2}, {c3}\")"
   ]
  },
  {
   "cell_type": "code",
   "execution_count": 13,
   "metadata": {},
   "outputs": [
    {
     "name": "stdout",
     "output_type": "stream",
     "text": [
      "78.9200403\n",
      "3.0999999864889105e-06\n",
      "1.6999999985500835e-06\n"
     ]
    }
   ],
   "source": [
    "print(timeit.timeit(\"cn(16)\", setup=\"from __main__ import cn\", number=5))\n",
    "print(timeit.timeit(\"cn2(16)\", setup=\"from __main__ import cn2\", number=5))\n",
    "print(timeit.timeit(\"cn3(16)\", setup=\"from __main__ import cn3\", number=5))"
   ]
  }
 ],
 "metadata": {
  "kernelspec": {
   "display_name": "Python 3 (ipykernel)",
   "language": "python",
   "name": "python3"
  },
  "language_info": {
   "codemirror_mode": {
    "name": "ipython",
    "version": 3
   },
   "file_extension": ".py",
   "mimetype": "text/x-python",
   "name": "python",
   "nbconvert_exporter": "python",
   "pygments_lexer": "ipython3",
   "version": "3.9.18"
  }
 },
 "nbformat": 4,
 "nbformat_minor": 4
}
